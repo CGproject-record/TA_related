{
  "cells": [
    {
      "cell_type": "markdown",
      "metadata": {
        "id": "view-in-github",
        "colab_type": "text"
      },
      "source": [
        "<a href=\"https://colab.research.google.com/github/CGproject-record/TA_related/blob/main/DeepSurv%20example%2020230907%20colab.ipynb\" target=\"_parent\"><img src=\"https://colab.research.google.com/assets/colab-badge.svg\" alt=\"Open In Colab\"/></a>"
      ]
    },
    {
      "cell_type": "code",
      "execution_count": null,
      "metadata": {
        "id": "Rd7J8n-p1q4z"
      },
      "outputs": [],
      "source": [
        "# Use DeepSurv from the repo\n",
        "import sys\n",
        "# sys.path.append('../deepsurv')\n",
        "import deep_surv\n",
        "\n",
        "from deepsurv_logger import DeepSurvLogger, TensorboardLogger\n",
        "import utils\n",
        "import viz\n",
        "\n",
        "import numpy as np\n",
        "import pandas as pd\n",
        "\n",
        "import lasagne\n",
        "import matplotlib\n",
        "import matplotlib.pyplot as plt\n",
        "%matplotlib inline\n"
      ]
    },
    {
      "cell_type": "markdown",
      "metadata": {
        "id": "f3z3zMOk1q40"
      },
      "source": [
        "# Read in dataset\n",
        "First, I read in the dataset and print the first five elements to get a sense of what the dataset looks like"
      ]
    },
    {
      "cell_type": "code",
      "execution_count": null,
      "metadata": {
        "id": "4VUiY3S61q41",
        "outputId": "e05ed059-77bd-4c4d-ae29-5f39a040f31b"
      },
      "outputs": [
        {
          "data": {
            "text/html": [
              "<div>\n",
              "<style scoped>\n",
              "    .dataframe tbody tr th:only-of-type {\n",
              "        vertical-align: middle;\n",
              "    }\n",
              "\n",
              "    .dataframe tbody tr th {\n",
              "        vertical-align: top;\n",
              "    }\n",
              "\n",
              "    .dataframe thead th {\n",
              "        text-align: right;\n",
              "    }\n",
              "</style>\n",
              "<table border=\"1\" class=\"dataframe\">\n",
              "  <thead>\n",
              "    <tr style=\"text-align: right;\">\n",
              "      <th></th>\n",
              "      <th>Variable_1</th>\n",
              "      <th>Variable_2</th>\n",
              "      <th>Variable_3</th>\n",
              "      <th>Variable_4</th>\n",
              "      <th>Event</th>\n",
              "      <th>Time</th>\n",
              "    </tr>\n",
              "  </thead>\n",
              "  <tbody>\n",
              "    <tr>\n",
              "      <th>0</th>\n",
              "      <td>0</td>\n",
              "      <td>3</td>\n",
              "      <td>2</td>\n",
              "      <td>4.6</td>\n",
              "      <td>1</td>\n",
              "      <td>43</td>\n",
              "    </tr>\n",
              "    <tr>\n",
              "      <th>1</th>\n",
              "      <td>0</td>\n",
              "      <td>2</td>\n",
              "      <td>0</td>\n",
              "      <td>1.6</td>\n",
              "      <td>0</td>\n",
              "      <td>52</td>\n",
              "    </tr>\n",
              "    <tr>\n",
              "      <th>2</th>\n",
              "      <td>0</td>\n",
              "      <td>3</td>\n",
              "      <td>0</td>\n",
              "      <td>3.5</td>\n",
              "      <td>1</td>\n",
              "      <td>73</td>\n",
              "    </tr>\n",
              "    <tr>\n",
              "      <th>3</th>\n",
              "      <td>0</td>\n",
              "      <td>3</td>\n",
              "      <td>1</td>\n",
              "      <td>5.1</td>\n",
              "      <td>0</td>\n",
              "      <td>51</td>\n",
              "    </tr>\n",
              "    <tr>\n",
              "      <th>4</th>\n",
              "      <td>0</td>\n",
              "      <td>2</td>\n",
              "      <td>0</td>\n",
              "      <td>1.7</td>\n",
              "      <td>0</td>\n",
              "      <td>51</td>\n",
              "    </tr>\n",
              "  </tbody>\n",
              "</table>\n",
              "</div>"
            ],
            "text/plain": [
              "   Variable_1   Variable_2  Variable_3  Variable_4  Event  Time\n",
              "0            0           3           2         4.6      1    43\n",
              "1            0           2           0         1.6      0    52\n",
              "2            0           3           0         3.5      1    73\n",
              "3            0           3           1         5.1      0    51\n",
              "4            0           2           0         1.7      0    51"
            ]
          },
          "execution_count": 4,
          "metadata": {},
          "output_type": "execute_result"
        }
      ],
      "source": [
        "train_dataset_fp = './example_data.csv'\n",
        "train_df = pd.read_csv(train_dataset_fp)\n",
        "train_df.head()"
      ]
    },
    {
      "cell_type": "markdown",
      "metadata": {
        "id": "mr_5Hfbx1q41"
      },
      "source": [
        "# Transform the dataset to \"DeepSurv\" format\n",
        "DeepSurv expects a dataset to be in the form:\n",
        "\n",
        "    {\n",
        "        'x': numpy array of float32\n",
        "        'e': numpy array of int32\n",
        "        't': numpy array of float32\n",
        "        'hr': (optional) numpy array of float32\n",
        "    }\n",
        "    \n",
        "You are providing me a csv, which I read in as a pandas dataframe. Then I convert the pandas dataframe into the DeepSurv dataset format above."
      ]
    },
    {
      "cell_type": "code",
      "execution_count": null,
      "metadata": {
        "id": "-tB2Izwp1q42"
      },
      "outputs": [],
      "source": [
        "# event_col is the header in the df that represents the 'Event / Status' indicator\n",
        "# time_col is the header in the df that represents the event time\n",
        "def dataframe_to_deepsurv_ds(df, event_col = 'Event', time_col = 'Time'):\n",
        "    # Extract the event and time columns as numpy arrays\n",
        "    e = df[event_col].values.astype(np.int32)\n",
        "    t = df[time_col].values.astype(np.float32)\n",
        "\n",
        "    # Extract the patient's covariates as a numpy array\n",
        "    x_df = df.drop([event_col, time_col], axis = 1)\n",
        "    x = x_df.values.astype(np.float32)\n",
        "\n",
        "    # Return the deep surv dataframe\n",
        "    return {\n",
        "        'x' : x,\n",
        "        'e' : e,\n",
        "        't' : t\n",
        "    }\n",
        "\n",
        "# If the headers of the csv change, you can replace the values of\n",
        "# 'event_col' and 'time_col' with the names of the new headers\n",
        "# You can also use this function on your training dataset, validation dataset, and testing dataset\n",
        "train_data = dataframe_to_deepsurv_ds(train_df, event_col = 'Event', time_col= 'Time')"
      ]
    },
    {
      "cell_type": "markdown",
      "metadata": {
        "id": "q0NovM511q42"
      },
      "source": [
        "Now once you have your dataset all formatted, define you hyper_parameters as a Python dictionary.\n",
        "I'll provide you with some example hyper-parameters, but you should replace the values once you tune them to your specific dataset"
      ]
    },
    {
      "cell_type": "code",
      "execution_count": null,
      "metadata": {
        "id": "DPQhWl9s1q42"
      },
      "outputs": [],
      "source": [
        "hyperparams = {\n",
        "    'L2_reg': 10.0,\n",
        "    'batch_norm': True,\n",
        "    'dropout': 0.4,\n",
        "    'hidden_layers_sizes': [25, 25],\n",
        "    'learning_rate': 1e-05,\n",
        "    'lr_decay': 0.001,\n",
        "    'momentum': 0.9,\n",
        "    'n_in': train_data['x'].shape[1],\n",
        "    'standardize': True\n",
        "}"
      ]
    },
    {
      "cell_type": "markdown",
      "metadata": {
        "id": "57KcAVOv1q42"
      },
      "source": [
        "Once you prepared your dataset, and defined your hyper-parameters. Now it's time to train DeepSurv!"
      ]
    },
    {
      "cell_type": "code",
      "execution_count": null,
      "metadata": {
        "scrolled": true,
        "id": "ZE4nL9wk1q42",
        "outputId": "13beac0b-658e-41a8-f5bc-d891617d62db"
      },
      "outputs": [
        {
          "name": "stdout",
          "output_type": "stream",
          "text": [
            "2023-09-06 23:11:16,219 - Training step 0/2000    |                         | - loss: 24.2540 - ci: 0.5190\n",
            "2023-09-06 23:43:36,811 - Training step 250/2000  |***                      | - loss: 12.3216 - ci: 0.4401\n",
            "2023-09-07 00:15:42,227 - Training step 500/2000  |******                   | - loss: 8.3350 - ci: 0.4654\n",
            "2023-09-07 00:47:56,264 - Training step 750/2000  |*********                | - loss: 6.9511 - ci: 0.5141\n",
            "2023-09-07 01:19:58,554 - Training step 1000/2000 |************             | - loss: 6.4161 - ci: 0.6060\n",
            "2023-09-07 01:52:00,221 - Training step 1250/2000 |***************          | - loss: 6.2556 - ci: 0.6903\n",
            "2023-09-07 02:24:18,512 - Training step 1500/2000 |******************       | - loss: 6.1988 - ci: 0.7054\n",
            "2023-09-07 02:56:36,399 - Training step 1750/2000 |*********************    | - loss: 6.1670 - ci: 0.7071\n",
            "2023-09-07 03:28:47,151 - Finished Training with 2000 iterations in 15458.85s\n"
          ]
        }
      ],
      "source": [
        "# Create an instance of DeepSurv using the hyperparams defined above\n",
        "model = deep_surv.DeepSurv(**hyperparams)\n",
        "\n",
        "# DeepSurv can now leverage TensorBoard to monitor training and validation\n",
        "# This section of code is optional. If you don't want to use the tensorboard logger\n",
        "# Uncomment the below line, and comment out the other three lines:\n",
        "# logger = None\n",
        "\n",
        "experiment_name = 'test_experiment_sebastian'\n",
        "logdir = './logs/tensorboard/'\n",
        "logger = TensorboardLogger(experiment_name, logdir=logdir)\n",
        "\n",
        "# Now we train the model\n",
        "update_fn=lasagne.updates.nesterov_momentum # The type of optimizer to use. \\\n",
        "                                            # Check out http://lasagne.readthedocs.io/en/latest/modules/updates.html \\\n",
        "                                            # for other optimizers to use\n",
        "n_epochs = 2000\n",
        "\n",
        "# If you have validation data, you can add it as the second parameter to the function\n",
        "metrics = model.train(train_data, n_epochs=n_epochs, logger=logger, update_fn=update_fn)"
      ]
    },
    {
      "cell_type": "markdown",
      "metadata": {
        "id": "dDWXRfdP1q43"
      },
      "source": [
        "There are two different ways to visualzie how the model trained:\n",
        "\n",
        "- Tensorboard (install ()[tensorboard]) which provides realtime metrics. Run the command in shell:\n",
        "   \n",
        "   `tensorboard --logdir './logs/tensorboard'`\n",
        "     \n",
        "     \n",
        "- Visualize the training functions post training (below)"
      ]
    },
    {
      "cell_type": "code",
      "execution_count": null,
      "metadata": {
        "id": "fJgJhg5C1q43",
        "outputId": "76c925f0-3bd6-4893-d0ab-60590f2f596d"
      },
      "outputs": [
        {
          "name": "stdout",
          "output_type": "stream",
          "text": [
            "Train C-Index: (1999, 0.7086829527349974)\n"
          ]
        },
        {
          "data": {
            "image/png": "[encoded data removed]",
            "text/plain": [
              "<Figure size 432x288 with 1 Axes>"
            ]
          },
          "metadata": {
            "needs_background": "light"
          },
          "output_type": "display_data"
        },
        {
          "data": {
            "image/png": "[encoded data removed]",
            "text/plain": [
              "<Figure size 432x288 with 1 Axes>"
            ]
          },
          "metadata": {
            "needs_background": "light"
          },
          "output_type": "display_data"
        }
      ],
      "source": [
        "# Print the final metrics\n",
        "print('Train C-Index:', metrics['c-index'][-1])\n",
        "# print('Valid C-Index: ',metrics['valid_c-index'][-1])\n",
        "\n",
        "# Plot the training / validation curves\n",
        "viz.plot_log(metrics)"
      ]
    }
  ],
  "metadata": {
    "anaconda-cloud": {},
    "kernelspec": {
      "display_name": "Python 3",
      "language": "python",
      "name": "python3"
    },
    "language_info": {
      "codemirror_mode": {
        "name": "ipython",
        "version": 3
      },
      "file_extension": ".py",
      "mimetype": "text/x-python",
      "name": "python",
      "nbconvert_exporter": "python",
      "pygments_lexer": "ipython3",
      "version": "3.6.8"
    },
    "colab": {
      "provenance": [],
      "include_colab_link": true
    }
  },
  "nbformat": 4,
  "nbformat_minor": 0
}